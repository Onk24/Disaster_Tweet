{
 "cells": [
  {
   "cell_type": "code",
   "execution_count": 30,
   "metadata": {
    "ExecuteTime": {
     "end_time": "2020-07-24T17:01:21.136906Z",
     "start_time": "2020-07-24T17:01:21.133790Z"
    }
   },
   "outputs": [],
   "source": [
    "import numpy as np\n",
    "import pandas as pd\n",
    "#nltk.download(\"book\")\n",
    "import nltk\n",
    "from nltk import word_tokenize\n",
    "from matplotlib import pyplot as plt\n",
    "import seaborn as sns\n",
    "from nltk.corpus import stopwords\n",
    "from keras.layers import LSTM, Conv1D, Flatten, Dense, BatchNormalization, Dropout"
   ]
  },
  {
   "cell_type": "markdown",
   "metadata": {},
   "source": [
    "## Importing data"
   ]
  },
  {
   "cell_type": "code",
   "execution_count": 9,
   "metadata": {
    "ExecuteTime": {
     "end_time": "2020-07-24T16:11:45.266548Z",
     "start_time": "2020-07-24T16:11:45.243568Z"
    }
   },
   "outputs": [
    {
     "data": {
      "text/html": [
       "<div>\n",
       "<style scoped>\n",
       "    .dataframe tbody tr th:only-of-type {\n",
       "        vertical-align: middle;\n",
       "    }\n",
       "\n",
       "    .dataframe tbody tr th {\n",
       "        vertical-align: top;\n",
       "    }\n",
       "\n",
       "    .dataframe thead th {\n",
       "        text-align: right;\n",
       "    }\n",
       "</style>\n",
       "<table border=\"1\" class=\"dataframe\">\n",
       "  <thead>\n",
       "    <tr style=\"text-align: right;\">\n",
       "      <th></th>\n",
       "      <th>id</th>\n",
       "      <th>keyword</th>\n",
       "      <th>location</th>\n",
       "      <th>text</th>\n",
       "      <th>target</th>\n",
       "    </tr>\n",
       "  </thead>\n",
       "  <tbody>\n",
       "    <tr>\n",
       "      <th>0</th>\n",
       "      <td>1</td>\n",
       "      <td>NaN</td>\n",
       "      <td>NaN</td>\n",
       "      <td>Our Deeds are the Reason of this #earthquake M...</td>\n",
       "      <td>1</td>\n",
       "    </tr>\n",
       "    <tr>\n",
       "      <th>1</th>\n",
       "      <td>4</td>\n",
       "      <td>NaN</td>\n",
       "      <td>NaN</td>\n",
       "      <td>Forest fire near La Ronge Sask. Canada</td>\n",
       "      <td>1</td>\n",
       "    </tr>\n",
       "    <tr>\n",
       "      <th>2</th>\n",
       "      <td>5</td>\n",
       "      <td>NaN</td>\n",
       "      <td>NaN</td>\n",
       "      <td>All residents asked to 'shelter in place' are ...</td>\n",
       "      <td>1</td>\n",
       "    </tr>\n",
       "    <tr>\n",
       "      <th>3</th>\n",
       "      <td>6</td>\n",
       "      <td>NaN</td>\n",
       "      <td>NaN</td>\n",
       "      <td>13,000 people receive #wildfires evacuation or...</td>\n",
       "      <td>1</td>\n",
       "    </tr>\n",
       "    <tr>\n",
       "      <th>4</th>\n",
       "      <td>7</td>\n",
       "      <td>NaN</td>\n",
       "      <td>NaN</td>\n",
       "      <td>Just got sent this photo from Ruby #Alaska as ...</td>\n",
       "      <td>1</td>\n",
       "    </tr>\n",
       "  </tbody>\n",
       "</table>\n",
       "</div>"
      ],
      "text/plain": [
       "   id keyword location                                               text  \\\n",
       "0   1     NaN      NaN  Our Deeds are the Reason of this #earthquake M...   \n",
       "1   4     NaN      NaN             Forest fire near La Ronge Sask. Canada   \n",
       "2   5     NaN      NaN  All residents asked to 'shelter in place' are ...   \n",
       "3   6     NaN      NaN  13,000 people receive #wildfires evacuation or...   \n",
       "4   7     NaN      NaN  Just got sent this photo from Ruby #Alaska as ...   \n",
       "\n",
       "   target  \n",
       "0       1  \n",
       "1       1  \n",
       "2       1  \n",
       "3       1  \n",
       "4       1  "
      ]
     },
     "execution_count": 9,
     "metadata": {},
     "output_type": "execute_result"
    }
   ],
   "source": [
    "train_df = pd.read_csv(\"train.csv\") \n",
    "train_df.head()"
   ]
  },
  {
   "cell_type": "code",
   "execution_count": 11,
   "metadata": {
    "ExecuteTime": {
     "end_time": "2020-07-24T16:12:01.152281Z",
     "start_time": "2020-07-24T16:12:01.126839Z"
    }
   },
   "outputs": [
    {
     "data": {
      "text/html": [
       "<div>\n",
       "<style scoped>\n",
       "    .dataframe tbody tr th:only-of-type {\n",
       "        vertical-align: middle;\n",
       "    }\n",
       "\n",
       "    .dataframe tbody tr th {\n",
       "        vertical-align: top;\n",
       "    }\n",
       "\n",
       "    .dataframe thead th {\n",
       "        text-align: right;\n",
       "    }\n",
       "</style>\n",
       "<table border=\"1\" class=\"dataframe\">\n",
       "  <thead>\n",
       "    <tr style=\"text-align: right;\">\n",
       "      <th></th>\n",
       "      <th>id</th>\n",
       "      <th>keyword</th>\n",
       "      <th>location</th>\n",
       "      <th>text</th>\n",
       "    </tr>\n",
       "  </thead>\n",
       "  <tbody>\n",
       "    <tr>\n",
       "      <th>0</th>\n",
       "      <td>0</td>\n",
       "      <td>NaN</td>\n",
       "      <td>NaN</td>\n",
       "      <td>Just happened a terrible car crash</td>\n",
       "    </tr>\n",
       "    <tr>\n",
       "      <th>1</th>\n",
       "      <td>2</td>\n",
       "      <td>NaN</td>\n",
       "      <td>NaN</td>\n",
       "      <td>Heard about #earthquake is different cities, s...</td>\n",
       "    </tr>\n",
       "    <tr>\n",
       "      <th>2</th>\n",
       "      <td>3</td>\n",
       "      <td>NaN</td>\n",
       "      <td>NaN</td>\n",
       "      <td>there is a forest fire at spot pond, geese are...</td>\n",
       "    </tr>\n",
       "    <tr>\n",
       "      <th>3</th>\n",
       "      <td>9</td>\n",
       "      <td>NaN</td>\n",
       "      <td>NaN</td>\n",
       "      <td>Apocalypse lighting. #Spokane #wildfires</td>\n",
       "    </tr>\n",
       "    <tr>\n",
       "      <th>4</th>\n",
       "      <td>11</td>\n",
       "      <td>NaN</td>\n",
       "      <td>NaN</td>\n",
       "      <td>Typhoon Soudelor kills 28 in China and Taiwan</td>\n",
       "    </tr>\n",
       "  </tbody>\n",
       "</table>\n",
       "</div>"
      ],
      "text/plain": [
       "   id keyword location                                               text\n",
       "0   0     NaN      NaN                 Just happened a terrible car crash\n",
       "1   2     NaN      NaN  Heard about #earthquake is different cities, s...\n",
       "2   3     NaN      NaN  there is a forest fire at spot pond, geese are...\n",
       "3   9     NaN      NaN           Apocalypse lighting. #Spokane #wildfires\n",
       "4  11     NaN      NaN      Typhoon Soudelor kills 28 in China and Taiwan"
      ]
     },
     "execution_count": 11,
     "metadata": {},
     "output_type": "execute_result"
    }
   ],
   "source": [
    "test_df = pd.read_csv(\"test.csv\")\n",
    "test_df.head()"
   ]
  },
  {
   "cell_type": "markdown",
   "metadata": {},
   "source": [
    "## EDA"
   ]
  },
  {
   "cell_type": "markdown",
   "metadata": {},
   "source": [
    "### Distribution of target class"
   ]
  },
  {
   "cell_type": "code",
   "execution_count": 15,
   "metadata": {
    "ExecuteTime": {
     "end_time": "2020-07-24T16:12:41.722886Z",
     "start_time": "2020-07-24T16:12:41.681561Z"
    }
   },
   "outputs": [
    {
     "data": {
      "text/plain": [
       "0    0.57034\n",
       "1    0.42966\n",
       "Name: target, dtype: float64"
      ]
     },
     "execution_count": 15,
     "metadata": {},
     "output_type": "execute_result"
    }
   ],
   "source": [
    "train_df[\"target\"].value_counts(normalize = True)"
   ]
  },
  {
   "cell_type": "markdown",
   "metadata": {},
   "source": [
    "### Keywords"
   ]
  },
  {
   "cell_type": "code",
   "execution_count": 17,
   "metadata": {
    "ExecuteTime": {
     "end_time": "2020-07-24T16:20:03.325798Z",
     "start_time": "2020-07-24T16:20:03.317880Z"
    }
   },
   "outputs": [
    {
     "data": {
      "text/plain": [
       "0.8012610009194797"
      ]
     },
     "execution_count": 17,
     "metadata": {},
     "output_type": "execute_result"
    }
   ],
   "source": [
    "#Checking how much of the data does not have a keyword\n",
    "np.mean(train_df[\"keyword\"].isna())*100"
   ]
  },
  {
   "cell_type": "markdown",
   "metadata": {},
   "source": [
    "Keywords are very less relatively"
   ]
  },
  {
   "cell_type": "markdown",
   "metadata": {},
   "source": [
    "### Tweet size distribution"
   ]
  },
  {
   "cell_type": "code",
   "execution_count": 19,
   "metadata": {
    "ExecuteTime": {
     "end_time": "2020-07-24T16:54:13.255639Z",
     "start_time": "2020-07-24T16:54:13.126921Z"
    }
   },
   "outputs": [
    {
     "data": {
      "image/png": "[encoded data removed]",
      "text/plain": [
       "<Figure size 432x288 with 1 Axes>"
      ]
     },
     "metadata": {
      "needs_background": "light"
     },
     "output_type": "display_data"
    }
   ],
   "source": [
    "#Characters\n",
    "sns.distplot(train_df[\"text\"].apply(len));"
   ]
  },
  {
   "cell_type": "markdown",
   "metadata": {},
   "source": [
    "### Tokenizing tweets and cleaning"
   ]
  },
  {
   "cell_type": "markdown",
   "metadata": {},
   "source": [
    "- Tokenize\n",
    "- Clean"
   ]
  },
  {
   "cell_type": "code",
   "execution_count": 40,
   "metadata": {
    "ExecuteTime": {
     "end_time": "2020-07-24T17:05:19.465919Z",
     "start_time": "2020-07-24T17:05:19.460907Z"
    }
   },
   "outputs": [],
   "source": [
    "stopwords_list = stopwords.words(\"english\")\n",
    "def tweets_clean(tweet):\n",
    "    words = word_tokenize(tweet)\n",
    "    words = [w for w in words if (w not in stopwords_list and w.isalpha())]\n",
    "    return \" \".join(words)"
   ]
  },
  {
   "cell_type": "code",
   "execution_count": 41,
   "metadata": {
    "ExecuteTime": {
     "end_time": "2020-07-24T17:05:21.427746Z",
     "start_time": "2020-07-24T17:05:20.061480Z"
    }
   },
   "outputs": [],
   "source": [
    "train_clean = train_df[\"text\"].apply(tweets_clean)"
   ]
  },
  {
   "cell_type": "code",
   "execution_count": null,
   "metadata": {},
   "outputs": [],
   "source": [
    "## "
   ]
  },
  {
   "cell_type": "code",
   "execution_count": 16,
   "metadata": {
    "ExecuteTime": {
     "end_time": "2020-03-17T05:48:24.627334Z",
     "start_time": "2020-03-17T05:48:24.481483Z"
    }
   },
   "outputs": [
    {
     "data": {
      "text/plain": [
       "<matplotlib.axes._subplots.AxesSubplot at 0x1a9a2ff9488>"
      ]
     },
     "execution_count": 16,
     "metadata": {},
     "output_type": "execute_result"
    },
    {
     "data": {
      "image/png": "[encoded data removed]",
      "text/plain": [
       "<Figure size 432x288 with 1 Axes>"
      ]
     },
     "metadata": {
      "needs_background": "light"
     },
     "output_type": "display_data"
    }
   ],
   "source": [
    "sns.distplot(t_tokens_c0.apply(len))"
   ]
  },
  {
   "cell_type": "code",
   "execution_count": 17,
   "metadata": {
    "ExecuteTime": {
     "end_time": "2020-03-17T05:48:35.171486Z",
     "start_time": "2020-03-17T05:48:24.628289Z"
    }
   },
   "outputs": [],
   "source": [
    "t_tokens_c1 = train_df_tokens[train_df[\"target\"]==1].apply(lambda ts:[t for t in ts if (t not in stopwords.words(\"english\") and t.isalpha())] )"
   ]
  },
  {
   "cell_type": "code",
   "execution_count": 18,
   "metadata": {
    "ExecuteTime": {
     "end_time": "2020-03-17T05:48:35.323452Z",
     "start_time": "2020-03-17T05:48:35.173036Z"
    }
   },
   "outputs": [
    {
     "data": {
      "text/plain": [
       "<matplotlib.axes._subplots.AxesSubplot at 0x1a9a1771888>"
      ]
     },
     "execution_count": 18,
     "metadata": {},
     "output_type": "execute_result"
    },
    {
     "data": {
      "image/png": "[encoded data removed]",
      "text/plain": [
       "<Figure size 432x288 with 1 Axes>"
      ]
     },
     "metadata": {
      "needs_background": "light"
     },
     "output_type": "display_data"
    }
   ],
   "source": [
    "sns.distplot(t_tokens_c1.apply(len))"
   ]
  },
  {
   "cell_type": "markdown",
   "metadata": {},
   "source": [
    "The distribution is approximately same"
   ]
  },
  {
   "cell_type": "code",
   "execution_count": 19,
   "metadata": {
    "ExecuteTime": {
     "end_time": "2020-03-17T05:49:12.715765Z",
     "start_time": "2020-03-17T05:48:35.324453Z"
    }
   },
   "outputs": [],
   "source": [
    "t_tokens_clean = train_df_tokens.apply(lambda ts:[t for t in ts if (t not in stopwords.words(\"english\") and t.isalpha())] )\n",
    "t_test_clean = t_test_tokens.apply(lambda ts:[t for t in ts if (t not in stopwords.words(\"english\") and t.isalpha())] )"
   ]
  },
  {
   "cell_type": "code",
   "execution_count": 20,
   "metadata": {
    "ExecuteTime": {
     "end_time": "2020-03-17T05:49:12.738272Z",
     "start_time": "2020-03-17T05:49:12.716752Z"
    }
   },
   "outputs": [],
   "source": [
    "t_tokens_clean = t_tokens_clean.apply(lambda x:[w for w in x if len(w) >= 3])\n",
    "t_test_clean = t_test_clean.apply(lambda x:[w for w in x if len(w) >= 3])"
   ]
  },
  {
   "cell_type": "code",
   "execution_count": 21,
   "metadata": {
    "ExecuteTime": {
     "end_time": "2020-03-17T05:49:12.931828Z",
     "start_time": "2020-03-17T05:49:12.738906Z"
    }
   },
   "outputs": [
    {
     "data": {
      "text/plain": [
       "<matplotlib.axes._subplots.AxesSubplot at 0x1a9a321ab08>"
      ]
     },
     "execution_count": 21,
     "metadata": {},
     "output_type": "execute_result"
    },
    {
     "data": {
      "image/png": "[encoded data removed]",
      "text/plain": [
       "<Figure size 432x288 with 1 Axes>"
      ]
     },
     "metadata": {
      "needs_background": "light"
     },
     "output_type": "display_data"
    }
   ],
   "source": [
    "sns.distplot(t_tokens_clean.apply(len))"
   ]
  },
  {
   "cell_type": "code",
   "execution_count": 22,
   "metadata": {
    "ExecuteTime": {
     "end_time": "2020-03-17T05:49:12.944258Z",
     "start_time": "2020-03-17T05:49:12.935390Z"
    }
   },
   "outputs": [
    {
     "data": {
      "text/plain": [
       "count    7613.000000\n",
       "mean        9.280704\n",
       "std         3.495796\n",
       "min         0.000000\n",
       "25%         7.000000\n",
       "50%         9.000000\n",
       "75%        12.000000\n",
       "max        21.000000\n",
       "Name: text, dtype: float64"
      ]
     },
     "execution_count": 22,
     "metadata": {},
     "output_type": "execute_result"
    }
   ],
   "source": [
    "t_tokens_clean.apply(len).describe()"
   ]
  },
  {
   "cell_type": "markdown",
   "metadata": {},
   "source": [
    "### Extracting Hashtags"
   ]
  },
  {
   "cell_type": "code",
   "execution_count": 23,
   "metadata": {
    "ExecuteTime": {
     "end_time": "2020-03-17T05:49:12.950239Z",
     "start_time": "2020-03-17T05:49:12.946254Z"
    }
   },
   "outputs": [],
   "source": [
    "import re"
   ]
  },
  {
   "cell_type": "code",
   "execution_count": 43,
   "metadata": {
    "ExecuteTime": {
     "end_time": "2020-07-24T17:05:56.416654Z",
     "start_time": "2020-07-24T17:05:56.413742Z"
    }
   },
   "outputs": [],
   "source": [
    "pat = \"#(\\w+)\""
   ]
  },
  {
   "cell_type": "code",
   "execution_count": 25,
   "metadata": {
    "ExecuteTime": {
     "end_time": "2020-03-17T05:49:12.969343Z",
     "start_time": "2020-03-17T05:49:12.957220Z"
    }
   },
   "outputs": [],
   "source": [
    "hashtags = train_df[\"text\"].str.findall(pat)\n",
    "hashtags_test = test_df[\"text\"].str.findall(pat)"
   ]
  },
  {
   "cell_type": "code",
   "execution_count": 26,
   "metadata": {
    "ExecuteTime": {
     "end_time": "2020-03-17T05:49:12.978074Z",
     "start_time": "2020-03-17T05:49:12.970185Z"
    }
   },
   "outputs": [],
   "source": [
    "hashtags  = hashtags.apply(\" \".join)\n",
    "hashtags_test = hashtags_test.apply(\" \".join)"
   ]
  },
  {
   "cell_type": "markdown",
   "metadata": {},
   "source": [
    "## Baseline model on hashtags, keywords and location"
   ]
  },
  {
   "cell_type": "code",
   "execution_count": 597,
   "metadata": {
    "ExecuteTime": {
     "end_time": "2020-02-15T01:00:36.934145Z",
     "start_time": "2020-02-15T01:00:36.930694Z"
    }
   },
   "outputs": [],
   "source": [
    "from sklearn.model_selection import train_test_split\n",
    "from sklearn.feature_extraction.text import CountVectorizer\n",
    "from sklearn.linear_model import LogisticRegression\n",
    "from sklearn.svm import SVC"
   ]
  },
  {
   "cell_type": "code",
   "execution_count": 598,
   "metadata": {
    "ExecuteTime": {
     "end_time": "2020-02-15T01:00:37.445664Z",
     "start_time": "2020-02-15T01:00:37.436239Z"
    }
   },
   "outputs": [],
   "source": [
    "keywords = train_df[\"keyword\"].replace(np.nan, \"\")\n",
    "keywords_test = test_df[\"keyword\"].replace(np.nan, \"\")"
   ]
  },
  {
   "cell_type": "code",
   "execution_count": 599,
   "metadata": {
    "ExecuteTime": {
     "end_time": "2020-02-15T01:00:37.942531Z",
     "start_time": "2020-02-15T01:00:37.937073Z"
    }
   },
   "outputs": [],
   "source": [
    "locations = train_df[\"location\"].replace(np.nan, \"\")\n",
    "locations_test = test_df[\"location\"].replace(np.nan, \"\")"
   ]
  },
  {
   "cell_type": "code",
   "execution_count": 600,
   "metadata": {
    "ExecuteTime": {
     "end_time": "2020-02-15T01:00:39.397337Z",
     "start_time": "2020-02-15T01:00:39.389374Z"
    }
   },
   "outputs": [],
   "source": [
    "X = hashtags +\" \"+keywords+\" \"+locations"
   ]
  },
  {
   "cell_type": "code",
   "execution_count": 601,
   "metadata": {
    "ExecuteTime": {
     "end_time": "2020-02-15T01:00:39.660162Z",
     "start_time": "2020-02-15T01:00:39.653663Z"
    }
   },
   "outputs": [],
   "source": [
    "X_train, X_test, y_train, y_test = train_test_split(X, train_df[\"target\"])"
   ]
  },
  {
   "cell_type": "code",
   "execution_count": 602,
   "metadata": {
    "ExecuteTime": {
     "end_time": "2020-02-15T01:00:40.010321Z",
     "start_time": "2020-02-15T01:00:39.926840Z"
    }
   },
   "outputs": [],
   "source": [
    "fit_v = CountVectorizer().fit(X_train)\n",
    "X_train_v = fit_v.transform(X_train)\n",
    "X_test_v = fit_v.transform(X_test)"
   ]
  },
  {
   "cell_type": "code",
   "execution_count": 603,
   "metadata": {
    "ExecuteTime": {
     "end_time": "2020-02-15T01:00:40.191461Z",
     "start_time": "2020-02-15T01:00:40.188982Z"
    }
   },
   "outputs": [],
   "source": [
    "lr = LogisticRegression(solver = \"lbfgs\")"
   ]
  },
  {
   "cell_type": "code",
   "execution_count": 604,
   "metadata": {
    "ExecuteTime": {
     "end_time": "2020-02-15T01:00:43.010029Z",
     "start_time": "2020-02-15T01:00:42.964894Z"
    }
   },
   "outputs": [
    {
     "data": {
      "text/plain": [
       "LogisticRegression(C=1.0, class_weight=None, dual=False, fit_intercept=True,\n",
       "                   intercept_scaling=1, l1_ratio=None, max_iter=100,\n",
       "                   multi_class='warn', n_jobs=None, penalty='l2',\n",
       "                   random_state=None, solver='lbfgs', tol=0.0001, verbose=0,\n",
       "                   warm_start=False)"
      ]
     },
     "execution_count": 604,
     "metadata": {},
     "output_type": "execute_result"
    }
   ],
   "source": [
    "lr.fit(X_train_v, y_train)"
   ]
  },
  {
   "cell_type": "code",
   "execution_count": 605,
   "metadata": {
    "ExecuteTime": {
     "end_time": "2020-02-15T01:00:43.490154Z",
     "start_time": "2020-02-15T01:00:43.483210Z"
    }
   },
   "outputs": [
    {
     "data": {
      "text/plain": [
       "0.726890756302521"
      ]
     },
     "execution_count": 605,
     "metadata": {},
     "output_type": "execute_result"
    }
   ],
   "source": [
    "lr.score(X_test_v, y_test)"
   ]
  },
  {
   "cell_type": "code",
   "execution_count": 606,
   "metadata": {
    "ExecuteTime": {
     "end_time": "2020-02-15T01:00:45.467318Z",
     "start_time": "2020-02-15T01:00:45.463846Z"
    }
   },
   "outputs": [],
   "source": [
    "args = lr.coef_[0].argsort()"
   ]
  },
  {
   "cell_type": "code",
   "execution_count": 607,
   "metadata": {
    "ExecuteTime": {
     "end_time": "2020-02-15T01:00:46.011156Z",
     "start_time": "2020-02-15T01:00:46.001732Z"
    }
   },
   "outputs": [],
   "source": [
    "features = np.array(fit_v.get_feature_names())"
   ]
  },
  {
   "cell_type": "code",
   "execution_count": 608,
   "metadata": {
    "ExecuteTime": {
     "end_time": "2020-02-15T01:00:46.328239Z",
     "start_time": "2020-02-15T01:00:46.323315Z"
    }
   },
   "outputs": [
    {
     "data": {
      "text/plain": [
       "array(['collision', 'earthquake', 'thunderstorm', 'karachi',\n",
       "       'devastation', 'evacuation', 'drought', '20spill', 'bombing',\n",
       "       'hiroshima', 'wildfire', 'evacuated', 'razed', 'suicide',\n",
       "       'typhoon', 'rescuers', 'debris', 'wreckage', 'derailment',\n",
       "       'outbreak'], dtype='<U32')"
      ]
     },
     "execution_count": 608,
     "metadata": {},
     "output_type": "execute_result"
    }
   ],
   "source": [
    "features[args[-20:]]"
   ]
  },
  {
   "cell_type": "markdown",
   "metadata": {},
   "source": [
    "## Building Model"
   ]
  },
  {
   "cell_type": "markdown",
   "metadata": {},
   "source": [
    "### Lemmatize text "
   ]
  },
  {
   "cell_type": "code",
   "execution_count": 609,
   "metadata": {
    "ExecuteTime": {
     "end_time": "2020-02-15T01:00:47.616657Z",
     "start_time": "2020-02-15T01:00:47.613680Z"
    }
   },
   "outputs": [],
   "source": [
    "from nltk import WordNetLemmatizer\n",
    "from nltk import PorterStemmer"
   ]
  },
  {
   "cell_type": "code",
   "execution_count": 610,
   "metadata": {
    "ExecuteTime": {
     "end_time": "2020-02-15T01:00:48.114612Z",
     "start_time": "2020-02-15T01:00:48.110647Z"
    }
   },
   "outputs": [],
   "source": [
    "lemma = WordNetLemmatizer()"
   ]
  },
  {
   "cell_type": "code",
   "execution_count": 611,
   "metadata": {
    "ExecuteTime": {
     "end_time": "2020-02-15T01:00:48.787889Z",
     "start_time": "2020-02-15T01:00:48.570751Z"
    }
   },
   "outputs": [],
   "source": [
    "X = t_tokens_clean.apply(lambda t1: [lemma.lemmatize(w) for w in t1])\n",
    "X = t_tokens_clean.apply(\" \".join)\n",
    "X  = X.apply(\"\".join)"
   ]
  },
  {
   "cell_type": "code",
   "execution_count": 612,
   "metadata": {
    "ExecuteTime": {
     "end_time": "2020-02-15T01:00:49.496016Z",
     "start_time": "2020-02-15T01:00:49.275434Z"
    }
   },
   "outputs": [],
   "source": [
    "X = t_tokens_clean.apply(lambda t1: [lemma.lemmatize(w) for w in t1])\n",
    "X = t_tokens_clean.apply(\" \".join)\n",
    "X  = X.apply(\"\".join)"
   ]
  },
  {
   "cell_type": "code",
   "execution_count": 613,
   "metadata": {
    "ExecuteTime": {
     "end_time": "2020-02-15T01:00:50.299106Z",
     "start_time": "2020-02-15T01:00:50.195137Z"
    }
   },
   "outputs": [],
   "source": [
    "X_pred = t_test_clean.apply(lambda t1: [lemma.lemmatize(w) for w in t1])\n",
    "X_pred = t_test_clean.apply(\" \".join)\n",
    "X_pred  = X_pred.apply(\"\".join)"
   ]
  },
  {
   "cell_type": "markdown",
   "metadata": {},
   "source": [
    "### Adding all the data together"
   ]
  },
  {
   "cell_type": "code",
   "execution_count": 614,
   "metadata": {
    "ExecuteTime": {
     "end_time": "2020-02-15T01:00:52.149428Z",
     "start_time": "2020-02-15T01:00:52.138021Z"
    }
   },
   "outputs": [],
   "source": [
    "X = hashtags+\" \"+keywords+\" \"+X\n",
    "X_pred = hashtags_test+\" \"+keywords_test+\" \"+X_pred"
   ]
  },
  {
   "cell_type": "code",
   "execution_count": 615,
   "metadata": {
    "ExecuteTime": {
     "end_time": "2020-02-15T01:00:52.719090Z",
     "start_time": "2020-02-15T01:00:52.711158Z"
    }
   },
   "outputs": [],
   "source": [
    "X_train, X_test, y_train, y_test = train_test_split(X, train_df[\"target\"])"
   ]
  },
  {
   "cell_type": "markdown",
   "metadata": {},
   "source": [
    "### Using CountVectorizer at word level"
   ]
  },
  {
   "cell_type": "code",
   "execution_count": 616,
   "metadata": {
    "ExecuteTime": {
     "end_time": "2020-02-15T01:00:55.381143Z",
     "start_time": "2020-02-15T01:00:54.925296Z"
    }
   },
   "outputs": [],
   "source": [
    "fit_v = CountVectorizer(strip_accents='unicode', ngram_range=(1, 3), analyzer='word', max_df=.5, min_df=1).fit(X_train)\n",
    "X_train_w = fit_v.transform(X_train)\n",
    "X_test_w = fit_v.transform(X_test)"
   ]
  },
  {
   "cell_type": "code",
   "execution_count": 617,
   "metadata": {
    "ExecuteTime": {
     "end_time": "2020-02-15T01:00:56.278461Z",
     "start_time": "2020-02-15T01:00:56.275501Z"
    }
   },
   "outputs": [],
   "source": [
    "lr = LogisticRegression(C= 10, solver = \"lbfgs\", max_iter = 10000)"
   ]
  },
  {
   "cell_type": "code",
   "execution_count": 618,
   "metadata": {
    "ExecuteTime": {
     "end_time": "2020-02-15T01:00:57.887926Z",
     "start_time": "2020-02-15T01:00:56.727014Z"
    }
   },
   "outputs": [
    {
     "data": {
      "text/plain": [
       "LogisticRegression(C=10, class_weight=None, dual=False, fit_intercept=True,\n",
       "                   intercept_scaling=1, l1_ratio=None, max_iter=10000,\n",
       "                   multi_class='warn', n_jobs=None, penalty='l2',\n",
       "                   random_state=None, solver='lbfgs', tol=0.0001, verbose=0,\n",
       "                   warm_start=False)"
      ]
     },
     "execution_count": 618,
     "metadata": {},
     "output_type": "execute_result"
    }
   ],
   "source": [
    "lr.fit(X_train_w, y_train)"
   ]
  },
  {
   "cell_type": "code",
   "execution_count": 619,
   "metadata": {
    "ExecuteTime": {
     "end_time": "2020-02-15T01:00:58.617611Z",
     "start_time": "2020-02-15T01:00:58.612652Z"
    }
   },
   "outputs": [
    {
     "data": {
      "text/plain": [
       "0.7778361344537815"
      ]
     },
     "execution_count": 619,
     "metadata": {},
     "output_type": "execute_result"
    }
   ],
   "source": [
    "lr.score(X_test_w, y_test)"
   ]
  },
  {
   "cell_type": "markdown",
   "metadata": {},
   "source": [
    "### Using CountVecotizer at character level"
   ]
  },
  {
   "cell_type": "code",
   "execution_count": 620,
   "metadata": {
    "ExecuteTime": {
     "end_time": "2020-02-15T01:01:07.988401Z",
     "start_time": "2020-02-15T01:01:05.372127Z"
    }
   },
   "outputs": [],
   "source": [
    "fit_v = CountVectorizer(strip_accents='unicode', ngram_range=(3, 6), analyzer='char', max_df=.3, min_df=1).fit(X_train)\n",
    "X_train_c = fit_v.transform(X_train)\n",
    "X_test_c = fit_v.transform(X_test)"
   ]
  },
  {
   "cell_type": "code",
   "execution_count": 621,
   "metadata": {
    "ExecuteTime": {
     "end_time": "2020-02-15T01:01:08.817045Z",
     "start_time": "2020-02-15T01:01:08.814058Z"
    }
   },
   "outputs": [],
   "source": [
    "lr2 = LogisticRegression(C= 10, solver = \"liblinear\", penalty = \"l2\", max_iter = 100)"
   ]
  },
  {
   "cell_type": "code",
   "execution_count": 622,
   "metadata": {
    "ExecuteTime": {
     "end_time": "2020-02-15T01:01:12.620163Z",
     "start_time": "2020-02-15T01:01:09.121382Z"
    }
   },
   "outputs": [
    {
     "data": {
      "text/plain": [
       "LogisticRegression(C=10, class_weight=None, dual=False, fit_intercept=True,\n",
       "                   intercept_scaling=1, l1_ratio=None, max_iter=100,\n",
       "                   multi_class='warn', n_jobs=None, penalty='l2',\n",
       "                   random_state=None, solver='liblinear', tol=0.0001, verbose=0,\n",
       "                   warm_start=False)"
      ]
     },
     "execution_count": 622,
     "metadata": {},
     "output_type": "execute_result"
    }
   ],
   "source": [
    "lr2.fit(X_train_c, y_train)"
   ]
  },
  {
   "cell_type": "code",
   "execution_count": 623,
   "metadata": {
    "ExecuteTime": {
     "end_time": "2020-02-15T01:01:13.685426Z",
     "start_time": "2020-02-15T01:01:13.677985Z"
    }
   },
   "outputs": [
    {
     "data": {
      "text/plain": [
       "0.7589285714285714"
      ]
     },
     "execution_count": 623,
     "metadata": {},
     "output_type": "execute_result"
    }
   ],
   "source": [
    "lr2.score(X_test_c, y_test)"
   ]
  },
  {
   "cell_type": "markdown",
   "metadata": {},
   "source": [
    "Logistic Regression with char counts gives better"
   ]
  },
  {
   "cell_type": "markdown",
   "metadata": {},
   "source": [
    "### SVM"
   ]
  },
  {
   "cell_type": "code",
   "execution_count": 428,
   "metadata": {
    "ExecuteTime": {
     "end_time": "2020-02-14T06:46:29.440345Z",
     "start_time": "2020-02-14T06:46:29.435846Z"
    }
   },
   "outputs": [],
   "source": [
    "svm = SVC(C=10)"
   ]
  },
  {
   "cell_type": "code",
   "execution_count": 429,
   "metadata": {
    "ExecuteTime": {
     "end_time": "2020-02-14T06:46:40.763807Z",
     "start_time": "2020-02-14T06:46:29.442791Z"
    }
   },
   "outputs": [
    {
     "name": "stderr",
     "output_type": "stream",
     "text": [
      "C:\\Users\\Onkar\\AppData\\Roaming\\Python\\Python37\\site-packages\\sklearn\\svm\\base.py:193: FutureWarning: The default value of gamma will change from 'auto' to 'scale' in version 0.22 to account better for unscaled features. Set gamma explicitly to 'auto' or 'scale' to avoid this warning.\n",
      "  \"avoid this warning.\", FutureWarning)\n"
     ]
    },
    {
     "data": {
      "text/plain": [
       "SVC(C=10, cache_size=200, class_weight=None, coef0=0.0,\n",
       "    decision_function_shape='ovr', degree=3, gamma='auto_deprecated',\n",
       "    kernel='rbf', max_iter=-1, probability=False, random_state=None,\n",
       "    shrinking=True, tol=0.001, verbose=False)"
      ]
     },
     "execution_count": 429,
     "metadata": {},
     "output_type": "execute_result"
    }
   ],
   "source": [
    "svm.fit(X_train_w, y_train)"
   ]
  },
  {
   "cell_type": "code",
   "execution_count": 430,
   "metadata": {
    "ExecuteTime": {
     "end_time": "2020-02-14T06:46:43.494850Z",
     "start_time": "2020-02-14T06:46:40.766730Z"
    }
   },
   "outputs": [
    {
     "data": {
      "text/plain": [
       "0.5777310924369747"
      ]
     },
     "execution_count": 430,
     "metadata": {},
     "output_type": "execute_result"
    }
   ],
   "source": [
    "svm.score(X_test_w, y_test)"
   ]
  },
  {
   "cell_type": "code",
   "execution_count": 431,
   "metadata": {
    "ExecuteTime": {
     "end_time": "2020-02-14T06:48:08.636269Z",
     "start_time": "2020-02-14T06:46:43.498201Z"
    }
   },
   "outputs": [
    {
     "data": {
      "text/plain": [
       "SVC(C=10, cache_size=200, class_weight=None, coef0=0.0,\n",
       "    decision_function_shape='ovr', degree=3, gamma='auto_deprecated',\n",
       "    kernel='rbf', max_iter=-1, probability=False, random_state=None,\n",
       "    shrinking=True, tol=0.001, verbose=False)"
      ]
     },
     "execution_count": 431,
     "metadata": {},
     "output_type": "execute_result"
    }
   ],
   "source": [
    "svm.fit(X_train_c, y_train)"
   ]
  },
  {
   "cell_type": "code",
   "execution_count": 432,
   "metadata": {
    "ExecuteTime": {
     "end_time": "2020-02-14T06:48:37.417205Z",
     "start_time": "2020-02-14T06:48:08.639738Z"
    }
   },
   "outputs": [
    {
     "data": {
      "text/plain": [
       "0.6449579831932774"
      ]
     },
     "execution_count": 432,
     "metadata": {},
     "output_type": "execute_result"
    }
   ],
   "source": [
    "svm.score(X_test_c, y_test)"
   ]
  },
  {
   "cell_type": "markdown",
   "metadata": {},
   "source": [
    "Runs too slow "
   ]
  },
  {
   "cell_type": "markdown",
   "metadata": {},
   "source": [
    "### NB"
   ]
  },
  {
   "cell_type": "code",
   "execution_count": 624,
   "metadata": {
    "ExecuteTime": {
     "end_time": "2020-02-15T01:01:22.098362Z",
     "start_time": "2020-02-15T01:01:22.093897Z"
    }
   },
   "outputs": [],
   "source": [
    "from sklearn.naive_bayes import MultinomialNB"
   ]
  },
  {
   "cell_type": "code",
   "execution_count": 625,
   "metadata": {
    "ExecuteTime": {
     "end_time": "2020-02-15T01:01:22.472986Z",
     "start_time": "2020-02-15T01:01:22.468062Z"
    }
   },
   "outputs": [],
   "source": [
    "nb = MultinomialNB(alpha = 0.01)"
   ]
  },
  {
   "cell_type": "code",
   "execution_count": 626,
   "metadata": {
    "ExecuteTime": {
     "end_time": "2020-02-15T01:01:22.818624Z",
     "start_time": "2020-02-15T01:01:22.806203Z"
    }
   },
   "outputs": [
    {
     "data": {
      "text/plain": [
       "0.7641806722689075"
      ]
     },
     "execution_count": 626,
     "metadata": {},
     "output_type": "execute_result"
    }
   ],
   "source": [
    "nb.fit(X_train_w, y_train)\n",
    "nb.score(X_test_w, y_test)"
   ]
  },
  {
   "cell_type": "code",
   "execution_count": 627,
   "metadata": {
    "ExecuteTime": {
     "end_time": "2020-02-15T01:01:23.269042Z",
     "start_time": "2020-02-15T01:01:23.234852Z"
    }
   },
   "outputs": [
    {
     "data": {
      "text/plain": [
       "0.773109243697479"
      ]
     },
     "execution_count": 627,
     "metadata": {},
     "output_type": "execute_result"
    }
   ],
   "source": [
    "nb.fit(X_train_c, y_train)\n",
    "nb.score(X_test_c, y_test)"
   ]
  },
  {
   "cell_type": "markdown",
   "metadata": {},
   "source": [
    "### Random Forest"
   ]
  },
  {
   "cell_type": "code",
   "execution_count": 628,
   "metadata": {
    "ExecuteTime": {
     "end_time": "2020-02-15T01:01:24.184922Z",
     "start_time": "2020-02-15T01:01:24.181941Z"
    }
   },
   "outputs": [],
   "source": [
    "from sklearn.ensemble import RandomForestClassifier"
   ]
  },
  {
   "cell_type": "code",
   "execution_count": 629,
   "metadata": {
    "ExecuteTime": {
     "end_time": "2020-02-15T01:01:30.818942Z",
     "start_time": "2020-02-15T01:01:30.811463Z"
    }
   },
   "outputs": [],
   "source": [
    "rf = RandomForestClassifier(max_features = 100, n_estimators = 100, max_depth = 100)"
   ]
  },
  {
   "cell_type": "code",
   "execution_count": 630,
   "metadata": {
    "ExecuteTime": {
     "end_time": "2020-02-15T01:01:35.191216Z",
     "start_time": "2020-02-15T01:01:31.158232Z"
    }
   },
   "outputs": [
    {
     "data": {
      "text/plain": [
       "0.7011554621848739"
      ]
     },
     "execution_count": 630,
     "metadata": {},
     "output_type": "execute_result"
    }
   ],
   "source": [
    "rf.fit(X_train_w, y_train)\n",
    "rf.score(X_test_w, y_test)"
   ]
  },
  {
   "cell_type": "code",
   "execution_count": 631,
   "metadata": {
    "ExecuteTime": {
     "end_time": "2020-02-15T01:02:19.802626Z",
     "start_time": "2020-02-15T01:01:46.356089Z"
    }
   },
   "outputs": [
    {
     "data": {
      "text/plain": [
       "0.7715336134453782"
      ]
     },
     "execution_count": 631,
     "metadata": {},
     "output_type": "execute_result"
    }
   ],
   "source": [
    "rf.fit(X_train_c, y_train)\n",
    "rf.score(X_test_c, y_test)"
   ]
  },
  {
   "cell_type": "markdown",
   "metadata": {},
   "source": [
    "Best accuracy till now, takes a lot of time "
   ]
  },
  {
   "cell_type": "markdown",
   "metadata": {},
   "source": [
    "### Adaboost"
   ]
  },
  {
   "cell_type": "code",
   "execution_count": 632,
   "metadata": {
    "ExecuteTime": {
     "end_time": "2020-02-15T01:02:19.807542Z",
     "start_time": "2020-02-15T01:02:19.804563Z"
    }
   },
   "outputs": [],
   "source": [
    "from sklearn.ensemble import AdaBoostClassifier"
   ]
  },
  {
   "cell_type": "code",
   "execution_count": 633,
   "metadata": {
    "ExecuteTime": {
     "end_time": "2020-02-15T01:02:19.821973Z",
     "start_time": "2020-02-15T01:02:19.809548Z"
    }
   },
   "outputs": [],
   "source": [
    "ada = AdaBoostClassifier(learning_rate = 1)"
   ]
  },
  {
   "cell_type": "code",
   "execution_count": 634,
   "metadata": {
    "ExecuteTime": {
     "end_time": "2020-02-15T01:02:20.736062Z",
     "start_time": "2020-02-15T01:02:19.824402Z"
    }
   },
   "outputs": [
    {
     "data": {
      "text/plain": [
       "0.7195378151260504"
      ]
     },
     "execution_count": 634,
     "metadata": {},
     "output_type": "execute_result"
    }
   ],
   "source": [
    "ada.fit(X_train_w, y_train)\n",
    "ada.score(X_test_w, y_test)"
   ]
  },
  {
   "cell_type": "code",
   "execution_count": 635,
   "metadata": {
    "ExecuteTime": {
     "end_time": "2020-02-15T01:02:26.745708Z",
     "start_time": "2020-02-15T01:02:20.737538Z"
    }
   },
   "outputs": [
    {
     "data": {
      "text/plain": [
       "0.7258403361344538"
      ]
     },
     "execution_count": 635,
     "metadata": {},
     "output_type": "execute_result"
    }
   ],
   "source": [
    "ada.fit(X_train_c, y_train)\n",
    "ada.score(X_test_c, y_test)"
   ]
  },
  {
   "cell_type": "markdown",
   "metadata": {},
   "source": [
    "### GB"
   ]
  },
  {
   "cell_type": "code",
   "execution_count": 636,
   "metadata": {
    "ExecuteTime": {
     "end_time": "2020-02-15T01:02:26.750049Z",
     "start_time": "2020-02-15T01:02:26.747072Z"
    }
   },
   "outputs": [],
   "source": [
    "from sklearn.ensemble import GradientBoostingClassifier"
   ]
  },
  {
   "cell_type": "code",
   "execution_count": 637,
   "metadata": {
    "ExecuteTime": {
     "end_time": "2020-02-15T01:02:26.762933Z",
     "start_time": "2020-02-15T01:02:26.751536Z"
    }
   },
   "outputs": [],
   "source": [
    "gb = GradientBoostingClassifier()"
   ]
  },
  {
   "cell_type": "code",
   "execution_count": 638,
   "metadata": {
    "ExecuteTime": {
     "end_time": "2020-02-15T01:02:31.732623Z",
     "start_time": "2020-02-15T01:02:26.765883Z"
    }
   },
   "outputs": [
    {
     "data": {
      "text/plain": [
       "0.7468487394957983"
      ]
     },
     "execution_count": 638,
     "metadata": {},
     "output_type": "execute_result"
    }
   ],
   "source": [
    "gb.fit(X_train_w, y_train)\n",
    "gb.score(X_test_w, y_test)"
   ]
  },
  {
   "cell_type": "code",
   "execution_count": 639,
   "metadata": {
    "ExecuteTime": {
     "end_time": "2020-02-15T01:03:00.708888Z",
     "start_time": "2020-02-15T01:02:31.735102Z"
    }
   },
   "outputs": [
    {
     "data": {
      "text/plain": [
       "0.756827731092437"
      ]
     },
     "execution_count": 639,
     "metadata": {},
     "output_type": "execute_result"
    }
   ],
   "source": [
    "gb.fit(X_train_c, y_train)\n",
    "gb.score(X_test_c, y_test)"
   ]
  },
  {
   "cell_type": "markdown",
   "metadata": {
    "ExecuteTime": {
     "end_time": "2020-02-14T05:21:18.501853Z",
     "start_time": "2020-02-14T05:21:18.498231Z"
    }
   },
   "source": [
    "### XGB"
   ]
  },
  {
   "cell_type": "code",
   "execution_count": 640,
   "metadata": {
    "ExecuteTime": {
     "end_time": "2020-02-15T01:03:00.713818Z",
     "start_time": "2020-02-15T01:03:00.710999Z"
    }
   },
   "outputs": [],
   "source": [
    "from xgboost import XGBClassifier"
   ]
  },
  {
   "cell_type": "code",
   "execution_count": 641,
   "metadata": {
    "ExecuteTime": {
     "end_time": "2020-02-15T01:03:00.733162Z",
     "start_time": "2020-02-15T01:03:00.715306Z"
    }
   },
   "outputs": [],
   "source": [
    "xgb = XGBClassifier()"
   ]
  },
  {
   "cell_type": "code",
   "execution_count": 642,
   "metadata": {
    "ExecuteTime": {
     "end_time": "2020-02-15T01:03:15.746187Z",
     "start_time": "2020-02-15T01:03:00.735146Z"
    }
   },
   "outputs": [
    {
     "data": {
      "text/plain": [
       "0.7001050420168067"
      ]
     },
     "execution_count": 642,
     "metadata": {},
     "output_type": "execute_result"
    }
   ],
   "source": [
    "xgb.fit(X_train_w, y_train)\n",
    "xgb.score(X_test_w, y_test)"
   ]
  },
  {
   "cell_type": "code",
   "execution_count": 643,
   "metadata": {
    "ExecuteTime": {
     "end_time": "2020-02-15T01:04:02.561622Z",
     "start_time": "2020-02-15T01:03:15.747636Z"
    }
   },
   "outputs": [
    {
     "data": {
      "text/plain": [
       "0.7515756302521008"
      ]
     },
     "execution_count": 643,
     "metadata": {},
     "output_type": "execute_result"
    }
   ],
   "source": [
    "xgb.fit(X_train_c, y_train)\n",
    "xgb.score(X_test_c, y_test)"
   ]
  },
  {
   "cell_type": "markdown",
   "metadata": {},
   "source": [
    "## Building model with tf-idf "
   ]
  },
  {
   "cell_type": "code",
   "execution_count": 644,
   "metadata": {
    "ExecuteTime": {
     "end_time": "2020-02-15T01:04:02.565706Z",
     "start_time": "2020-02-15T01:04:02.562728Z"
    }
   },
   "outputs": [],
   "source": [
    "from sklearn.feature_extraction.text import TfidfVectorizer"
   ]
  },
  {
   "cell_type": "code",
   "execution_count": 645,
   "metadata": {
    "ExecuteTime": {
     "end_time": "2020-02-15T01:04:03.054914Z",
     "start_time": "2020-02-15T01:04:02.567194Z"
    }
   },
   "outputs": [],
   "source": [
    "fit_ti_w = TfidfVectorizer(ngram_range = (1,3)).fit(X_train)\n",
    "X_train_ti_w = fit_ti.transform(X_train)\n",
    "X_test_ti_w = fit_ti.transform(X_test)"
   ]
  },
  {
   "cell_type": "code",
   "execution_count": 693,
   "metadata": {
    "ExecuteTime": {
     "end_time": "2020-02-15T01:52:58.009772Z",
     "start_time": "2020-02-15T01:52:49.074843Z"
    }
   },
   "outputs": [],
   "source": [
    "fit_ti_c = TfidfVectorizer(ngram_range = (3,7), analyzer = \"char\").fit(X_train)\n",
    "X_train_ti_c = fit_ti_c.transform(X_train)\n",
    "X_test_ti_c = fit_ti_c.transform(X_test)"
   ]
  },
  {
   "cell_type": "markdown",
   "metadata": {},
   "source": [
    "### Logistic Regression"
   ]
  },
  {
   "cell_type": "code",
   "execution_count": 697,
   "metadata": {
    "ExecuteTime": {
     "end_time": "2020-02-15T01:53:26.995653Z",
     "start_time": "2020-02-15T01:53:26.988594Z"
    }
   },
   "outputs": [],
   "source": [
    "lr2 = LogisticRegression(solver = \"liblinear\", penalty = \"l2\")"
   ]
  },
  {
   "cell_type": "code",
   "execution_count": 704,
   "metadata": {
    "ExecuteTime": {
     "end_time": "2020-02-15T02:48:19.933319Z",
     "start_time": "2020-02-15T02:48:19.924866Z"
    }
   },
   "outputs": [
    {
     "data": {
      "text/plain": [
       "0.8397267472411981"
      ]
     },
     "execution_count": 704,
     "metadata": {},
     "output_type": "execute_result"
    }
   ],
   "source": [
    "lr2.score(X_train_ti_w, y_train)"
   ]
  },
  {
   "cell_type": "code",
   "execution_count": 703,
   "metadata": {
    "ExecuteTime": {
     "end_time": "2020-02-15T02:48:08.777044Z",
     "start_time": "2020-02-15T02:48:08.751715Z"
    }
   },
   "outputs": [
    {
     "data": {
      "text/plain": [
       "0.7657563025210085"
      ]
     },
     "execution_count": 703,
     "metadata": {},
     "output_type": "execute_result"
    }
   ],
   "source": [
    "lr2.fit(X_train_ti_w, y_train)\n",
    "lr2.score(X_test_ti_w, y_test)"
   ]
  },
  {
   "cell_type": "code",
   "execution_count": 699,
   "metadata": {
    "ExecuteTime": {
     "end_time": "2020-02-15T01:53:28.049589Z",
     "start_time": "2020-02-15T01:53:27.590824Z"
    }
   },
   "outputs": [
    {
     "data": {
      "text/plain": [
       "0.7888655462184874"
      ]
     },
     "execution_count": 699,
     "metadata": {},
     "output_type": "execute_result"
    }
   ],
   "source": [
    "lr2.fit(X_train_ti_c, y_train)\n",
    "lr2.score(X_test_ti_c, y_test)"
   ]
  },
  {
   "cell_type": "markdown",
   "metadata": {},
   "source": [
    "### NB"
   ]
  },
  {
   "cell_type": "code",
   "execution_count": 650,
   "metadata": {
    "ExecuteTime": {
     "end_time": "2020-02-15T01:04:06.817271Z",
     "start_time": "2020-02-15T01:04:06.812808Z"
    }
   },
   "outputs": [],
   "source": [
    "nb2 = MultinomialNB(alpha = 0.00001)"
   ]
  },
  {
   "cell_type": "code",
   "execution_count": 651,
   "metadata": {
    "ExecuteTime": {
     "end_time": "2020-02-15T01:04:06.828184Z",
     "start_time": "2020-02-15T01:04:06.819255Z"
    }
   },
   "outputs": [
    {
     "data": {
      "text/plain": [
       "0.7678571428571429"
      ]
     },
     "execution_count": 651,
     "metadata": {},
     "output_type": "execute_result"
    }
   ],
   "source": [
    "nb2.fit(X_train_ti_w, y_train)\n",
    "nb2.score(X_test_ti_w, y_test)"
   ]
  },
  {
   "cell_type": "code",
   "execution_count": 652,
   "metadata": {
    "ExecuteTime": {
     "end_time": "2020-02-15T01:04:06.871832Z",
     "start_time": "2020-02-15T01:04:06.830663Z"
    }
   },
   "outputs": [
    {
     "data": {
      "text/plain": [
       "0.7584033613445378"
      ]
     },
     "execution_count": 652,
     "metadata": {},
     "output_type": "execute_result"
    }
   ],
   "source": [
    "nb2.fit(X_train_ti_c, y_train)\n",
    "nb2.score(X_test_ti_c, y_test)"
   ]
  },
  {
   "cell_type": "markdown",
   "metadata": {},
   "source": [
    "### Random Forest"
   ]
  },
  {
   "cell_type": "code",
   "execution_count": 653,
   "metadata": {
    "ExecuteTime": {
     "end_time": "2020-02-15T01:04:06.877784Z",
     "start_time": "2020-02-15T01:04:06.874312Z"
    }
   },
   "outputs": [],
   "source": [
    "from sklearn.ensemble import RandomForestClassifier"
   ]
  },
  {
   "cell_type": "code",
   "execution_count": 700,
   "metadata": {
    "ExecuteTime": {
     "end_time": "2020-02-15T01:54:14.681980Z",
     "start_time": "2020-02-15T01:54:14.678991Z"
    }
   },
   "outputs": [],
   "source": [
    "rf2 = RandomForestClassifier(max_features = 100, n_estimators = 100, max_depth = 200)"
   ]
  },
  {
   "cell_type": "code",
   "execution_count": 701,
   "metadata": {
    "ExecuteTime": {
     "end_time": "2020-02-15T01:54:43.033078Z",
     "start_time": "2020-02-15T01:54:15.452521Z"
    }
   },
   "outputs": [
    {
     "data": {
      "text/plain": [
       "0.7662815126050421"
      ]
     },
     "execution_count": 701,
     "metadata": {},
     "output_type": "execute_result"
    }
   ],
   "source": [
    "rf2.fit(X_train_ti_w, y_train)\n",
    "rf2.score(X_test_ti_w, y_test)"
   ]
  },
  {
   "cell_type": "code",
   "execution_count": 656,
   "metadata": {
    "ExecuteTime": {
     "end_time": "2020-02-15T01:04:52.384741Z",
     "start_time": "2020-02-15T01:04:15.693959Z"
    }
   },
   "outputs": [
    {
     "data": {
      "text/plain": [
       "0.7652310924369747"
      ]
     },
     "execution_count": 656,
     "metadata": {},
     "output_type": "execute_result"
    }
   ],
   "source": [
    "rf2.fit(X_train_ti_c, y_train)\n",
    "rf2.score(X_test_ti_c, y_test)"
   ]
  },
  {
   "cell_type": "markdown",
   "metadata": {},
   "source": [
    "Takes a lot of time "
   ]
  },
  {
   "cell_type": "markdown",
   "metadata": {},
   "source": [
    "### Adaboost"
   ]
  },
  {
   "cell_type": "code",
   "execution_count": 657,
   "metadata": {
    "ExecuteTime": {
     "end_time": "2020-02-15T01:04:52.389195Z",
     "start_time": "2020-02-15T01:04:52.386202Z"
    }
   },
   "outputs": [],
   "source": [
    "from sklearn.ensemble import AdaBoostClassifier"
   ]
  },
  {
   "cell_type": "code",
   "execution_count": 658,
   "metadata": {
    "ExecuteTime": {
     "end_time": "2020-02-15T01:04:52.400585Z",
     "start_time": "2020-02-15T01:04:52.391166Z"
    }
   },
   "outputs": [],
   "source": [
    "ada2 = AdaBoostClassifier(learning_rate = 1)"
   ]
  },
  {
   "cell_type": "code",
   "execution_count": 659,
   "metadata": {
    "ExecuteTime": {
     "end_time": "2020-02-15T01:04:53.956065Z",
     "start_time": "2020-02-15T01:04:52.403079Z"
    }
   },
   "outputs": [
    {
     "data": {
      "text/plain": [
       "0.7205882352941176"
      ]
     },
     "execution_count": 659,
     "metadata": {},
     "output_type": "execute_result"
    }
   ],
   "source": [
    "ada2.fit(X_train_ti_w, y_train)\n",
    "ada2.score(X_test_ti_w, y_test)"
   ]
  },
  {
   "cell_type": "code",
   "execution_count": 660,
   "metadata": {
    "ExecuteTime": {
     "end_time": "2020-02-15T01:05:06.644212Z",
     "start_time": "2020-02-15T01:04:53.958056Z"
    }
   },
   "outputs": [
    {
     "data": {
      "text/plain": [
       "0.7258403361344538"
      ]
     },
     "execution_count": 660,
     "metadata": {},
     "output_type": "execute_result"
    }
   ],
   "source": [
    "ada.fit(X_train_ti_c, y_train)\n",
    "ada.score(X_test_ti_c, y_test)"
   ]
  },
  {
   "cell_type": "markdown",
   "metadata": {},
   "source": [
    "### GB"
   ]
  },
  {
   "cell_type": "code",
   "execution_count": 661,
   "metadata": {
    "ExecuteTime": {
     "end_time": "2020-02-15T01:05:06.649911Z",
     "start_time": "2020-02-15T01:05:06.647187Z"
    }
   },
   "outputs": [],
   "source": [
    "from sklearn.ensemble import GradientBoostingClassifier"
   ]
  },
  {
   "cell_type": "code",
   "execution_count": 662,
   "metadata": {
    "ExecuteTime": {
     "end_time": "2020-02-15T01:05:06.658598Z",
     "start_time": "2020-02-15T01:05:06.651652Z"
    }
   },
   "outputs": [],
   "source": [
    "gb2 = GradientBoostingClassifier()"
   ]
  },
  {
   "cell_type": "code",
   "execution_count": 663,
   "metadata": {
    "ExecuteTime": {
     "end_time": "2020-02-15T01:05:10.279372Z",
     "start_time": "2020-02-15T01:05:06.663073Z"
    }
   },
   "outputs": [
    {
     "data": {
      "text/plain": [
       "0.7090336134453782"
      ]
     },
     "execution_count": 663,
     "metadata": {},
     "output_type": "execute_result"
    }
   ],
   "source": [
    "gb2.fit(X_train_ti_w, y_train)\n",
    "gb2.score(X_test_ti_w, y_test)"
   ]
  },
  {
   "cell_type": "code",
   "execution_count": 664,
   "metadata": {
    "ExecuteTime": {
     "end_time": "2020-02-15T01:05:46.629291Z",
     "start_time": "2020-02-15T01:05:10.281575Z"
    }
   },
   "outputs": [
    {
     "data": {
      "text/plain": [
       "0.7557773109243697"
      ]
     },
     "execution_count": 664,
     "metadata": {},
     "output_type": "execute_result"
    }
   ],
   "source": [
    "gb2.fit(X_train_c, y_train)\n",
    "gb2.score(X_test_c, y_test)"
   ]
  },
  {
   "cell_type": "markdown",
   "metadata": {
    "ExecuteTime": {
     "end_time": "2020-02-14T05:21:18.501853Z",
     "start_time": "2020-02-14T05:21:18.498231Z"
    }
   },
   "source": [
    "### XGB"
   ]
  },
  {
   "cell_type": "code",
   "execution_count": 665,
   "metadata": {
    "ExecuteTime": {
     "end_time": "2020-02-15T01:05:46.634261Z",
     "start_time": "2020-02-15T01:05:46.631299Z"
    }
   },
   "outputs": [],
   "source": [
    "from xgboost import XGBClassifier"
   ]
  },
  {
   "cell_type": "code",
   "execution_count": 666,
   "metadata": {
    "ExecuteTime": {
     "end_time": "2020-02-15T01:05:46.645163Z",
     "start_time": "2020-02-15T01:05:46.636730Z"
    }
   },
   "outputs": [],
   "source": [
    "xgb2 = XGBClassifier()"
   ]
  },
  {
   "cell_type": "code",
   "execution_count": 667,
   "metadata": {
    "ExecuteTime": {
     "end_time": "2020-02-15T01:05:51.309144Z",
     "start_time": "2020-02-15T01:05:46.646650Z"
    }
   },
   "outputs": [
    {
     "data": {
      "text/plain": [
       "0.6985294117647058"
      ]
     },
     "execution_count": 667,
     "metadata": {},
     "output_type": "execute_result"
    }
   ],
   "source": [
    "xgb2.fit(X_train_ti_w, y_train)\n",
    "xgb2.score(X_test_ti_w, y_test)"
   ]
  },
  {
   "cell_type": "code",
   "execution_count": 706,
   "metadata": {
    "ExecuteTime": {
     "end_time": "2020-02-15T02:52:29.989955Z",
     "start_time": "2020-02-15T02:49:11.827608Z"
    }
   },
   "outputs": [
    {
     "data": {
      "text/plain": [
       "XGBClassifier(base_score=0.5, booster='gbtree', colsample_bylevel=1,\n",
       "              colsample_bynode=1, colsample_bytree=1, gamma=0,\n",
       "              learning_rate=0.1, max_delta_step=0, max_depth=3,\n",
       "              min_child_weight=1, missing=None, n_estimators=100, n_jobs=1,\n",
       "              nthread=None, objective='binary:logistic', random_state=0,\n",
       "              reg_alpha=0, reg_lambda=1, scale_pos_weight=1, seed=None,\n",
       "              silent=None, subsample=1, verbosity=1)"
      ]
     },
     "execution_count": 706,
     "metadata": {},
     "output_type": "execute_result"
    }
   ],
   "source": [
    "xgb.fit(X_train_ti_c, y_train)\n",
    "#xgb.score(X_test_ti_c, y_test)"
   ]
  },
  {
   "cell_type": "code",
   "execution_count": 707,
   "metadata": {
    "ExecuteTime": {
     "end_time": "2020-02-15T02:52:31.291955Z",
     "start_time": "2020-02-15T02:52:29.995904Z"
    }
   },
   "outputs": [
    {
     "data": {
      "text/plain": [
       "0.8276405675249606"
      ]
     },
     "execution_count": 707,
     "metadata": {},
     "output_type": "execute_result"
    }
   ],
   "source": [
    "xgb.score(X_train_ti_c, y_train)"
   ]
  },
  {
   "cell_type": "markdown",
   "metadata": {},
   "source": [
    "### Trying ensemble"
   ]
  },
  {
   "cell_type": "code",
   "execution_count": 685,
   "metadata": {
    "ExecuteTime": {
     "end_time": "2020-02-15T01:39:16.139811Z",
     "start_time": "2020-02-15T01:39:16.132215Z"
    }
   },
   "outputs": [],
   "source": [
    "from sklearn.ensemble import VotingClassifier"
   ]
  },
  {
   "cell_type": "code",
   "execution_count": 692,
   "metadata": {
    "ExecuteTime": {
     "end_time": "2020-02-15T01:45:11.349750Z",
     "start_time": "2020-02-15T01:43:53.336069Z"
    }
   },
   "outputs": [
    {
     "data": {
      "text/plain": [
       "0.7741596638655462"
      ]
     },
     "execution_count": 692,
     "metadata": {},
     "output_type": "execute_result"
    }
   ],
   "source": [
    "model = VotingClassifier(estimators=[('lr', lr2), ('rf', rf2),('nb', nb2)], voting='soft')\n",
    "model.fit(X_train_ti_c, y_train)\n",
    "model.score(X_test_ti_c, y_test)"
   ]
  },
  {
   "cell_type": "markdown",
   "metadata": {},
   "source": [
    "## Predictions"
   ]
  },
  {
   "cell_type": "code",
   "execution_count": 670,
   "metadata": {
    "ExecuteTime": {
     "end_time": "2020-02-15T01:23:24.455952Z",
     "start_time": "2020-02-15T01:23:20.534210Z"
    }
   },
   "outputs": [],
   "source": [
    "fit_ti = TfidfVectorizer(ngram_range = (3,6), analyzer = \"char\").fit(X)\n",
    "X_train_ti_c = fit_ti.transform(X)\n",
    "X_pred_ti_c = fit_ti.transform(X_pred)"
   ]
  },
  {
   "cell_type": "code",
   "execution_count": 672,
   "metadata": {
    "ExecuteTime": {
     "end_time": "2020-02-15T01:24:05.580553Z",
     "start_time": "2020-02-15T01:24:05.286922Z"
    }
   },
   "outputs": [
    {
     "data": {
      "text/plain": [
       "LogisticRegression(C=1.0, class_weight=None, dual=False, fit_intercept=True,\n",
       "                   intercept_scaling=1, l1_ratio=None, max_iter=100,\n",
       "                   multi_class='warn', n_jobs=None, penalty='l2',\n",
       "                   random_state=None, solver='liblinear', tol=0.0001, verbose=0,\n",
       "                   warm_start=False)"
      ]
     },
     "execution_count": 672,
     "metadata": {},
     "output_type": "execute_result"
    }
   ],
   "source": [
    "lr2 = LogisticRegression(solver = \"liblinear\")\n",
    "lr2.fit(X_train_ti_c, train_df[\"target\"])"
   ]
  },
  {
   "cell_type": "code",
   "execution_count": 679,
   "metadata": {
    "ExecuteTime": {
     "end_time": "2020-02-15T01:26:30.414983Z",
     "start_time": "2020-02-15T01:26:30.407542Z"
    }
   },
   "outputs": [],
   "source": [
    "Preds = lr2.predict(X_pred_ti_c)"
   ]
  },
  {
   "cell_type": "code",
   "execution_count": 683,
   "metadata": {
    "ExecuteTime": {
     "end_time": "2020-02-15T01:28:44.264096Z",
     "start_time": "2020-02-15T01:28:44.260128Z"
    }
   },
   "outputs": [],
   "source": [
    "Output = pd.DataFrame({\"id\": test_df[\"id\"], \"target\":Preds})"
   ]
  },
  {
   "cell_type": "code",
   "execution_count": 684,
   "metadata": {
    "ExecuteTime": {
     "end_time": "2020-02-15T01:28:53.330911Z",
     "start_time": "2020-02-15T01:28:53.320495Z"
    }
   },
   "outputs": [],
   "source": [
    "Output.to_csv(\"Submission.csv\", index = False)"
   ]
  }
 ],
 "metadata": {
  "kernelspec": {
   "display_name": "Python 3",
   "language": "python",
   "name": "python3"
  },
  "language_info": {
   "codemirror_mode": {
    "name": "ipython",
    "version": 3
   },
   "file_extension": ".py",
   "mimetype": "text/x-python",
   "name": "python",
   "nbconvert_exporter": "python",
   "pygments_lexer": "ipython3",
   "version": "3.7.6"
  },
  "toc": {
   "base_numbering": 1,
   "nav_menu": {},
   "number_sections": true,
   "sideBar": true,
   "skip_h1_title": false,
   "title_cell": "Table of Contents",
   "title_sidebar": "Contents",
   "toc_cell": false,
   "toc_position": {},
   "toc_section_display": true,
   "toc_window_display": false
  }
 },
 "nbformat": 4,
 "nbformat_minor": 2
}
